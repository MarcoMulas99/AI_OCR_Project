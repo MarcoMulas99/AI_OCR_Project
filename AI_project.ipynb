{
  "nbformat": 4,
  "nbformat_minor": 0,
  "metadata": {
    "colab": {
      "provenance": [],
      "include_colab_link": true
    },
    "kernelspec": {
      "name": "python3",
      "display_name": "Python 3"
    },
    "language_info": {
      "name": "python"
    }
  },
  "cells": [
    {
      "cell_type": "markdown",
      "metadata": {
        "id": "view-in-github",
        "colab_type": "text"
      },
      "source": [
        "<a href=\"https://colab.research.google.com/github/MarcoMulas99/AI_OCR_Project/blob/main/AI_project.ipynb\" target=\"_parent\"><img src=\"https://colab.research.google.com/assets/colab-badge.svg\" alt=\"Open In Colab\"/></a>"
      ]
    },
    {
      "cell_type": "markdown",
      "source": [
        "# Optical Character Recognition task\n",
        "\n",
        "Classification is a kind of supervised learning predicting the class (or category) of input “objects”,\n",
        "out of a predefined set of classes. Handwritten digit recognition is a ten-class problem (0, 1, . . . , 9)\n",
        "\n",
        "**Dataset**\n",
        "We use the MNIST dataset, a set of handwritten digits.\n",
        "\n",
        "It is contained in tensorflow library. TensorFlow provides built-in functions to directly download and load popular datasets like MNIST.\n",
        "https://www.tensorflow.org/api_docs/python/tf/keras/datasets/mnist/load_data\n",
        "\n",
        "\n",
        "\n",
        "Images in MNIST dataset are represented as tri-dimensional arrays, to use them with scikit-learn classifier you have to turn them into uni-dimensional arrays.\n",
        "\n"
      ],
      "metadata": {
        "id": "Uo_oMtYcJnjn"
      }
    },
    {
      "cell_type": "code",
      "source": [
        "from sklearn.tree import DecisionTreeClassifier\n",
        "from sklearn.ensemble import RandomForestClassifier\n",
        "from sklearn.neural_network import MLPClassifier\n",
        "import tensorflow as tf\n",
        "import numpy as np\n",
        "import time\n"
      ],
      "metadata": {
        "id": "tqUBNm61HAwX"
      },
      "execution_count": null,
      "outputs": []
    },
    {
      "cell_type": "code",
      "source": [
        "#----preprocessing----\n",
        "def load_mnist():\n",
        "  #split the dataset in training set and test set\n",
        "  mnist = tf.keras.datasets.mnist\n",
        "  (x_train, y_train), (x_test, y_test) = mnist.load_data()\n",
        "\n",
        "  #Normalization of the pixel values to fit them into the interval [0,1]\n",
        "  x_train = x_train / 255.0\n",
        "  x_test = x_test / 255.0\n",
        "\n",
        "  return (x_train, y_train), (x_test, y_test)\n",
        "\n",
        "#Load MNIST dataset\n",
        "(x_train, y_train), (x_test, y_test) = load_mnist()\n",
        "\n",
        "#Images Flattening into unidimensional array\n",
        "x_train_flattened = x_train.reshape(x_train.shape[0], -1)\n",
        "x_test_flattened = x_test.reshape(x_test.shape[0], -1)\n",
        "\n"
      ],
      "metadata": {
        "id": "xAI4iCyqHbuU",
        "colab": {
          "base_uri": "https://localhost:8080/"
        },
        "outputId": "f0a1c3e9-034f-48f0-ff07-21ad819fc995"
      },
      "execution_count": null,
      "outputs": [
        {
          "output_type": "stream",
          "name": "stdout",
          "text": [
            "Downloading data from https://storage.googleapis.com/tensorflow/tf-keras-datasets/mnist.npz\n",
            "\u001b[1m11490434/11490434\u001b[0m \u001b[32m━━━━━━━━━━━━━━━━━━━━\u001b[0m\u001b[37m\u001b[0m \u001b[1m0s\u001b[0m 0us/step\n"
          ]
        }
      ]
    },
    {
      "cell_type": "code",
      "source": [
        "from sklearn.metrics import accuracy_score, precision_score, recall_score, f1_score\n",
        "\n",
        "def evaluate_model(model, x_test, y_test, model_name=\"\", training_time=None, extra_info=None):\n",
        "    \"\"\"\n",
        "    Function to evaluate a machine learning model on test data and display training time.\n",
        "\n",
        "    Args:\n",
        "    - model: The trained machine learning model to evaluate.\n",
        "    - x_test: Test feature data.\n",
        "    - y_test: True labels for the test data.\n",
        "    - model_name: Name of the model (optional, for printing).\n",
        "    - training_time: Time taken to train the model (optional).\n",
        "    - extra_info: Any additional information to print (e.g., number of trees, model architecture).\n",
        "\n",
        "    Returns:\n",
        "    - A dictionary containing accuracy, precision, recall, F1 score, and training time.\n",
        "    \"\"\"\n",
        "\n",
        "    # Predict the test labels\n",
        "    y_pred = model.predict(x_test)\n",
        "\n",
        "    # Calculate evaluation metrics\n",
        "    accuracy = accuracy_score(y_test, y_pred)\n",
        "    precision = precision_score(y_test, y_pred, average='weighted')\n",
        "    recall = recall_score(y_test, y_pred, average='weighted')\n",
        "    f1 = f1_score(y_test, y_pred, average='weighted')\n",
        "\n",
        "    # Print evaluation results\n",
        "    print(f\"--- {model_name} Evaluation ---\")\n",
        "    if training_time is not None:\n",
        "        print(f\"Training time: {training_time:.4f} seconds\")\n",
        "    print(f\"Accuracy: {accuracy:.4f}\")\n",
        "    print(f\"Precision: {precision:.4f}\")\n",
        "    print(f\"Recall: {recall:.4f}\")\n",
        "    print(f\"F1 Score: {f1:.4f}\")\n",
        "\n",
        "    # Print additional information if provided\n",
        "    if extra_info:\n",
        "        print(extra_info)\n",
        "\n",
        "    print(\"-----------------------------\")\n",
        "\n",
        "    # Return metrics as a dictionary\n",
        "    return\n"
      ],
      "metadata": {
        "id": "CCmCH6ZnPews"
      },
      "execution_count": null,
      "outputs": []
    },
    {
      "cell_type": "markdown",
      "source": [
        "## Decision trees"
      ],
      "metadata": {
        "id": "Gflq89DQOYsA"
      }
    },
    {
      "cell_type": "code",
      "source": [
        "#----Decision trees----\n",
        "#DT training\n",
        "start_time = time.time()\n",
        "decision_tree = DecisionTreeClassifier()\n",
        "decision_tree.fit(x_train_flattened, y_train)\n",
        "end_time = time.time()\n",
        "training_time_dt  = end_time - start_time\n",
        "#DT Prediction and accuracy test\n",
        "extra_info_dt = \"Decision Tree:\"\n",
        "evaluate_model(decision_tree, x_test_flattened, y_test, \"Decision Tree\", training_time=training_time_dt)"
      ],
      "metadata": {
        "id": "AwJTo0ObMP_0",
        "colab": {
          "base_uri": "https://localhost:8080/"
        },
        "outputId": "32ecc724-6845-4418-c6da-566d7a3a1c6d"
      },
      "execution_count": null,
      "outputs": [
        {
          "output_type": "stream",
          "name": "stdout",
          "text": [
            "--- Decision Tree Evaluation ---\n",
            "Training time: 24.9235 seconds\n",
            "Accuracy: 0.8765\n",
            "Precision: 0.8763\n",
            "Recall: 0.8765\n",
            "F1 Score: 0.8764\n",
            "-----------------------------\n"
          ]
        }
      ]
    },
    {
      "cell_type": "code",
      "source": [
        "start_time = time.time()\n",
        "decision_tree_overfit = DecisionTreeClassifier(criterion=\"entropy\")\n",
        "decision_tree_overfit.fit(x_train_flattened, y_train)\n",
        "end_time = time.time()\n",
        "training_time_dt_entropy = end_time - start_time\n",
        "\n",
        "# Evaluate the decision tree model with entropy\n",
        "evaluate_model(decision_tree_overfit, x_test_flattened, y_test, \"Decision Tree (Entropy)\", training_time=training_time_dt_entropy, extra_info=extra_info_dt_entropy)\n"
      ],
      "metadata": {
        "colab": {
          "base_uri": "https://localhost:8080/"
        },
        "id": "KUkIiCvLcOdp",
        "outputId": "37a6d005-6e27-47e0-ef44-dbe07b724fb6"
      },
      "execution_count": null,
      "outputs": [
        {
          "output_type": "stream",
          "name": "stdout",
          "text": [
            "--- Decision Tree (Entropy) Evaluation ---\n",
            "Training time: 19.3759 seconds\n",
            "Accuracy: 0.8864\n",
            "Precision: 0.8865\n",
            "Recall: 0.8864\n",
            "F1 Score: 0.8864\n",
            "Decision Tree (Entropy):\n",
            "-----------------------------\n"
          ]
        }
      ]
    },
    {
      "cell_type": "markdown",
      "source": [],
      "metadata": {
        "id": "8Lf4NENXcaGH"
      }
    },
    {
      "cell_type": "code",
      "source": [
        "# Overfitting - Deep tree with few constraints\n",
        "start_time = time.time()\n",
        "decision_tree_overfit = DecisionTreeClassifier(max_depth=None, min_samples_split=2, min_samples_leaf=1)\n",
        "decision_tree_overfit.fit(x_train_flattened, y_train)\n",
        "end_time = time.time()\n",
        "training_time_dt_overfit = end_time - start_time\n",
        "\n",
        "# Evaluate overfitting DT on test data\n",
        "extra_info_dt_overfit = \"Decision Tree (Overfit): max_depth=None, min_samples_split=2, min_samples_leaf=1\"\n",
        "evaluate_model(decision_tree_overfit, x_test_flattened, y_test, \"Decision Tree (Overfit)\",\n",
        "               training_time=training_time_dt_overfit, extra_info=extra_info_dt_overfit)\n",
        "\n",
        "# Evaluate overfitting DT on training data\n",
        "evaluate_model(decision_tree_overfit, x_train_flattened, y_train, \"Decision Tree (Overfit on Training Data)\",\n",
        "               training_time=training_time_dt_overfit, extra_info=extra_info_dt_overfit + \" (Training Data)\")\n",
        "\n"
      ],
      "metadata": {
        "colab": {
          "base_uri": "https://localhost:8080/"
        },
        "id": "C6YaACIexQ04",
        "outputId": "ac5e437c-b271-4e51-cb26-70517fa9cb70"
      },
      "execution_count": null,
      "outputs": [
        {
          "output_type": "stream",
          "name": "stdout",
          "text": [
            "--- Decision Tree (Overfit) Evaluation ---\n",
            "Training time: 27.0926 seconds\n",
            "Accuracy: 0.8772\n",
            "Precision: 0.8774\n",
            "Recall: 0.8772\n",
            "F1 Score: 0.8772\n",
            "Decision Tree (Overfit): max_depth=None, min_samples_split=2, min_samples_leaf=1\n",
            "-----------------------------\n",
            "--- Decision Tree (Overfit on Training Data) Evaluation ---\n",
            "Training time: 27.0926 seconds\n",
            "Accuracy: 1.0000\n",
            "Precision: 1.0000\n",
            "Recall: 1.0000\n",
            "F1 Score: 1.0000\n",
            "Decision Tree (Overfit): max_depth=None, min_samples_split=2, min_samples_leaf=1 (Training Data)\n",
            "-----------------------------\n"
          ]
        }
      ]
    },
    {
      "cell_type": "code",
      "source": [
        "# Underfitting - Shallow tree with constraints\n",
        "start_time = time.time()\n",
        "decision_tree_underfit = DecisionTreeClassifier(max_depth=2, min_samples_split=10, min_samples_leaf=10)\n",
        "decision_tree_underfit.fit(x_train_flattened, y_train)\n",
        "end_time = time.time()\n",
        "training_time_underfit = end_time - start_time\n",
        "\n",
        "# Evaluate underfitting DT\n",
        "extra_info_dt_underfit = \"Decision Tree (Underfit): max_depth=2, min_samples_split=10, min_samples_leaf=10\"\n",
        "evaluate_model(decision_tree_underfit, x_test_flattened, y_test, \"Decision Tree (Underfit)\", training_time=training_time_underfit, extra_info=extra_info_dt_underfit)\n"
      ],
      "metadata": {
        "colab": {
          "base_uri": "https://localhost:8080/"
        },
        "id": "FAGR3nHqxkci",
        "outputId": "5461e6e8-82e9-46dd-a015-5365c97635d0"
      },
      "execution_count": null,
      "outputs": [
        {
          "output_type": "stream",
          "name": "stdout",
          "text": [
            "--- Decision Tree (Underfit) Evaluation ---\n",
            "Training time: 2.4622 seconds\n",
            "Accuracy: 0.3447\n",
            "Precision: 0.1614\n",
            "Recall: 0.3447\n",
            "F1 Score: 0.2144\n",
            "Decision Tree (Underfit): max_depth=2, min_samples_split=10, min_samples_leaf=10\n",
            "-----------------------------\n"
          ]
        },
        {
          "output_type": "stream",
          "name": "stderr",
          "text": [
            "/usr/local/lib/python3.10/dist-packages/sklearn/metrics/_classification.py:1471: UndefinedMetricWarning: Precision is ill-defined and being set to 0.0 in labels with no predicted samples. Use `zero_division` parameter to control this behavior.\n",
            "  _warn_prf(average, modifier, msg_start, len(result))\n"
          ]
        }
      ]
    },
    {
      "cell_type": "markdown",
      "source": [
        "### **Random forest**"
      ],
      "metadata": {
        "id": "570SCVT6Oeya"
      }
    },
    {
      "cell_type": "code",
      "source": [
        "#----Random forest-----\n",
        "# Random Forest with different n_estimators values\n",
        "# n_estimators = 10\n",
        "N_ESTIMATORS = 10\n",
        "start_time = time.time()\n",
        "random_forest_10 = RandomForestClassifier(n_estimators=N_ESTIMATORS)\n",
        "random_forest_10.fit(x_train_flattened, y_train)\n",
        "end_time = time.time()\n",
        "training_time_rf_10 = end_time - start_time\n",
        "\n",
        "extra_info_rf_10 = f\"Number of trees (n_estimators): {N_ESTIMATORS}\"\n",
        "evaluate_model(random_forest_10, x_test_flattened, y_test, \"Random Forest (10 estimators)\",\n",
        "               training_time=training_time_rf_10, extra_info=extra_info_rf_10)\n",
        "\n",
        "# n_estimators = 100\n",
        "N_ESTIMATORS = 100\n",
        "start_time = time.time()\n",
        "random_forest_100 = RandomForestClassifier(n_estimators=N_ESTIMATORS)\n",
        "random_forest_100.fit(x_train_flattened, y_train)\n",
        "end_time = time.time()\n",
        "training_time_rf_100 = end_time - start_time\n",
        "\n",
        "extra_info_rf_100 = f\"Number of trees (n_estimators): {N_ESTIMATORS}\"\n",
        "evaluate_model(random_forest_100, x_test_flattened, y_test, \"Random Forest (100 estimators)\",\n",
        "               training_time=training_time_rf_100, extra_info=extra_info_rf_100)\n",
        "\n",
        "# n_estimators = 1000\n",
        "N_ESTIMATORS = 1000\n",
        "start_time = time.time()\n",
        "random_forest_1000 = RandomForestClassifier(n_estimators=N_ESTIMATORS)\n",
        "random_forest_1000.fit(x_train_flattened, y_train)\n",
        "end_time = time.time()\n",
        "training_time_rf_1000 = end_time - start_time\n",
        "\n",
        "extra_info_rf_1000 = f\"Number of trees (n_estimators): {N_ESTIMATORS}\"\n",
        "evaluate_model(random_forest_1000, x_test_flattened, y_test, \"Random Forest (1000 estimators)\",\n",
        "               training_time=training_time_rf_1000, extra_info=extra_info_rf_1000)"
      ],
      "metadata": {
        "colab": {
          "base_uri": "https://localhost:8080/"
        },
        "id": "Y6WyGYbIOwEh",
        "outputId": "27eff776-e0be-47c6-9572-960a29ebdbfd"
      },
      "execution_count": null,
      "outputs": [
        {
          "output_type": "stream",
          "name": "stdout",
          "text": [
            "--- Random Forest (10 estimators) Evaluation ---\n",
            "Training time: 4.9764 seconds\n",
            "Accuracy: 0.9480\n",
            "Precision: 0.9481\n",
            "Recall: 0.9480\n",
            "F1 Score: 0.9479\n",
            "Number of trees (n_estimators): 10\n",
            "-----------------------------\n",
            "--- Random Forest (100 estimators) Evaluation ---\n",
            "Training time: 53.3689 seconds\n",
            "Accuracy: 0.9699\n",
            "Precision: 0.9699\n",
            "Recall: 0.9699\n",
            "F1 Score: 0.9699\n",
            "Number of trees (n_estimators): 100\n",
            "-----------------------------\n",
            "--- Random Forest (1000 estimators) Evaluation ---\n",
            "Training time: 530.0451 seconds\n",
            "Accuracy: 0.9721\n",
            "Precision: 0.9721\n",
            "Recall: 0.9721\n",
            "F1 Score: 0.9721\n",
            "Number of trees (n_estimators): 1000\n",
            "-----------------------------\n"
          ]
        }
      ]
    },
    {
      "cell_type": "code",
      "source": [
        "# n_estimators = 100\n",
        "N_ESTIMATORS = 100\n",
        "start_time = time.time()\n",
        "random_forest_100_no_bootstrap = RandomForestClassifier(n_estimators=N_ESTIMATORS, bootstrap=False)\n",
        "random_forest_100_no_bootstrap.fit(x_train_flattened, y_train)\n",
        "end_time = time.time()\n",
        "training_time_rf_100_no_bootstrap = end_time - start_time\n",
        "\n",
        "extra_info_rf_100_no_bootstrap = f\"Number of trees (n_estimators): {N_ESTIMATORS}, Bootstrap: False\"\n",
        "evaluate_model(random_forest_100_no_bootstrap, x_test_flattened, y_test, \"Random Forest (100 estimators, Bootstrap=False)\",\n",
        "               training_time=training_time_rf_100_no_bootstrap, extra_info=extra_info_rf_100_no_bootstrap)\n"
      ],
      "metadata": {
        "colab": {
          "base_uri": "https://localhost:8080/"
        },
        "id": "zd3wCABaelFo",
        "outputId": "ffc9f11c-dc34-4f0c-bbfc-17b284bd2f69"
      },
      "execution_count": null,
      "outputs": [
        {
          "output_type": "stream",
          "name": "stdout",
          "text": [
            "--- Random Forest (100 estimators, Bootstrap=False) Evaluation ---\n",
            "Training time: 82.0344 seconds\n",
            "Accuracy: 0.9736\n",
            "Precision: 0.9736\n",
            "Recall: 0.9736\n",
            "F1 Score: 0.9736\n",
            "Number of trees (n_estimators): 100, Bootstrap: False\n",
            "-----------------------------\n"
          ]
        }
      ]
    },
    {
      "cell_type": "code",
      "source": [
        "N_ESTIMATORS = 100\n",
        "\n",
        "# Overfitting\n",
        "start_time = time.time()\n",
        "rf_overfit = RandomForestClassifier(n_estimators=N_ESTIMATORS, max_depth=None, min_samples_split=2, min_samples_leaf=1)\n",
        "rf_overfit.fit(x_train_flattened, y_train)\n",
        "end_time = time.time()\n",
        "training_time_rf_overfit = end_time - start_time\n",
        "extra_info_rf_overfit = f\"Overfitting: n_estimators={N_ESTIMATORS}, max_depth=None, min_samples_split=2, min_samples_leaf=1\"\n",
        "evaluate_model(rf_overfit, x_test_flattened, y_test, \"Random Forest (Overfit)\",\n",
        "               training_time=training_time_rf_overfit, extra_info=extra_info_rf_overfit)\n",
        "evaluate_model(rf_overfit, x_train_flattened, y_train, \"Random Forest (Overfit on Training Data)\",\n",
        "               training_time=training_time_rf_overfit, extra_info=extra_info_rf_overfit + \" (Training Data)\")\n",
        "\n",
        "# Underfitting\n",
        "start_time = time.time()\n",
        "rf_underfit = RandomForestClassifier(n_estimators=N_ESTIMATORS, max_depth=2, min_samples_split=10, min_samples_leaf=10)\n",
        "rf_underfit.fit(x_train_flattened, y_train)\n",
        "end_time = time.time()\n",
        "training_time_rf_underfit = end_time - start_time\n",
        "extra_info_rf_underfit = f\"Underfitting: n_estimators={N_ESTIMATORS}, max_depth=2, min_samples_split=10, min_samples_leaf=10\"\n",
        "evaluate_model(rf_underfit, x_test_flattened, y_test, \"Random Forest (Underfit)\",\n",
        "               training_time=training_time_rf_underfit, extra_info=extra_info_rf_underfit)"
      ],
      "metadata": {
        "colab": {
          "base_uri": "https://localhost:8080/"
        },
        "id": "W49OMPBZ4Pxw",
        "outputId": "c803cdd9-457c-44cd-f625-9570fe5b0c52"
      },
      "execution_count": null,
      "outputs": [
        {
          "output_type": "stream",
          "name": "stdout",
          "text": [
            "--- Random Forest (Overfit) Evaluation ---\n",
            "Training time: 53.3907 seconds\n",
            "Accuracy: 0.9693\n",
            "Precision: 0.9693\n",
            "Recall: 0.9693\n",
            "F1 Score: 0.9693\n",
            "Overfitting: n_estimators=100, max_depth=None, min_samples_split=2, min_samples_leaf=1\n",
            "-----------------------------\n",
            "--- Random Forest (Overfit on Training Data) Evaluation ---\n",
            "Training time: 53.3907 seconds\n",
            "Accuracy: 1.0000\n",
            "Precision: 1.0000\n",
            "Recall: 1.0000\n",
            "F1 Score: 1.0000\n",
            "Overfitting: n_estimators=100, max_depth=None, min_samples_split=2, min_samples_leaf=1 (Training Data)\n",
            "-----------------------------\n",
            "--- Random Forest (Underfit) Evaluation ---\n",
            "Training time: 7.7032 seconds\n",
            "Accuracy: 0.6471\n",
            "Precision: 0.7065\n",
            "Recall: 0.6471\n",
            "F1 Score: 0.6161\n",
            "Underfitting: n_estimators=100, max_depth=2, min_samples_split=10, min_samples_leaf=10\n",
            "-----------------------------\n"
          ]
        }
      ]
    },
    {
      "cell_type": "markdown",
      "source": [
        "## Neural Networks\n",
        "Usage of Multi-layer Perceptron classifier of scikit learn library\n",
        "\n",
        "https://scikit-learn.org/stable/modules/generated/sklearn.neural_network.MLPClassifier.html\n",
        "\n",
        "Here we evaluate the performance of different architectures. We first see how the performance of a single hidden layer perceptron network improves as the number of neurons increases. We finally test a considerably more complex network with multiple layers to check how much we can improve on the previous architecture style."
      ],
      "metadata": {
        "id": "cvc__GWCzZQR"
      }
    },
    {
      "cell_type": "code",
      "source": [
        "MLPClassifiers = [\n",
        "    MLPClassifier(hidden_layer_sizes=(1,), max_iter=500, batch_size=32),\n",
        "    MLPClassifier(hidden_layer_sizes=(10,), max_iter=500, batch_size=32),\n",
        "    MLPClassifier(hidden_layer_sizes=(20,), max_iter=500, batch_size=32),\n",
        "    MLPClassifier(hidden_layer_sizes=(30,), max_iter=500, batch_size=32),\n",
        "    MLPClassifier(hidden_layer_sizes=(40,), max_iter=500, batch_size=32),\n",
        "    MLPClassifier(hidden_layer_sizes=(50,), max_iter=500, batch_size=32),\n",
        "    MLPClassifier(hidden_layer_sizes=(60,), max_iter=500, batch_size=32),\n",
        "    MLPClassifier(hidden_layer_sizes=(70,), max_iter=500, batch_size=32),\n",
        "    MLPClassifier(hidden_layer_sizes=(80,), max_iter=500, batch_size=32),\n",
        "    MLPClassifier(hidden_layer_sizes=(90,), max_iter=500, batch_size=32),\n",
        "    MLPClassifier(hidden_layer_sizes=(100,), max_iter=500, batch_size=32),\n",
        "    MLPClassifier(hidden_layer_sizes=(512, 512, 256, 128), max_iter=500, batch_size=512),\n",
        "]\n",
        "\n",
        "for (idx, clf) in enumerate(MLPClassifiers):\n",
        "  # Train the classifier\n",
        "  start_time = time.time()\n",
        "  clf.fit(x_train_flattened, y_train)\n",
        "  end_time = time.time()\n",
        "  training_time_nn = end_time - start_time\n",
        "\n",
        "  # Predict on the training and test data\n",
        "  y_train_pred = clf.predict(x_train_flattened)\n",
        "  y_test_pred = clf.predict(x_test_flattened)\n",
        "\n",
        "  # Evaluate the classifier\n",
        "  extra_info_nn = f\"Network architecture: {clf.hidden_layer_sizes}\"\n",
        "  evaluate_model(clf, x_test_flattened, y_test, \"Neural Network\", training_time=training_time_nn, extra_info=extra_info_nn)"
      ],
      "metadata": {
        "id": "Q3CplbOJemvZ",
        "colab": {
          "base_uri": "https://localhost:8080/"
        },
        "outputId": "10c65a16-0d9c-4d30-9452-bc62c4347668"
      },
      "execution_count": null,
      "outputs": [
        {
          "metadata": {
            "tags": null
          },
          "name": "stderr",
          "output_type": "stream",
          "text": [
            "/usr/local/lib/python3.10/dist-packages/sklearn/metrics/_classification.py:1471: UndefinedMetricWarning: Precision is ill-defined and being set to 0.0 in labels with no predicted samples. Use `zero_division` parameter to control this behavior.\n",
            "  _warn_prf(average, modifier, msg_start, len(result))\n"
          ]
        },
        {
          "output_type": "stream",
          "name": "stdout",
          "text": [
            "--- Neural Network Evaluation ---\n",
            "Training time: 16.9151 seconds\n",
            "Accuracy: 0.1135\n",
            "Precision: 0.0129\n",
            "Recall: 0.1135\n",
            "F1 Score: 0.0231\n",
            "Network architecture: (1,)\n",
            "-----------------------------\n",
            "--- Neural Network Evaluation ---\n",
            "Training time: 184.1986 seconds\n",
            "Accuracy: 0.9330\n",
            "Precision: 0.9332\n",
            "Recall: 0.9330\n",
            "F1 Score: 0.9329\n",
            "Network architecture: (10,)\n",
            "-----------------------------\n",
            "--- Neural Network Evaluation ---\n",
            "Training time: 518.3890 seconds\n",
            "Accuracy: 0.9521\n",
            "Precision: 0.9522\n",
            "Recall: 0.9521\n",
            "F1 Score: 0.9521\n",
            "Network architecture: (20,)\n",
            "-----------------------------\n",
            "--- Neural Network Evaluation ---\n",
            "Training time: 337.9443 seconds\n",
            "Accuracy: 0.9636\n",
            "Precision: 0.9637\n",
            "Recall: 0.9636\n",
            "F1 Score: 0.9636\n",
            "Network architecture: (30,)\n",
            "-----------------------------\n",
            "--- Neural Network Evaluation ---\n",
            "Training time: 435.4614 seconds\n",
            "Accuracy: 0.9680\n",
            "Precision: 0.9681\n",
            "Recall: 0.9680\n",
            "F1 Score: 0.9680\n",
            "Network architecture: (40,)\n",
            "-----------------------------\n",
            "--- Neural Network Evaluation ---\n",
            "Training time: 342.8310 seconds\n",
            "Accuracy: 0.9737\n",
            "Precision: 0.9738\n",
            "Recall: 0.9737\n",
            "F1 Score: 0.9737\n",
            "Network architecture: (50,)\n",
            "-----------------------------\n",
            "--- Neural Network Evaluation ---\n",
            "Training time: 268.5197 seconds\n",
            "Accuracy: 0.9729\n",
            "Precision: 0.9730\n",
            "Recall: 0.9729\n",
            "F1 Score: 0.9729\n",
            "Network architecture: (60,)\n",
            "-----------------------------\n",
            "--- Neural Network Evaluation ---\n",
            "Training time: 287.5316 seconds\n",
            "Accuracy: 0.9774\n",
            "Precision: 0.9774\n",
            "Recall: 0.9774\n",
            "F1 Score: 0.9774\n",
            "Network architecture: (70,)\n",
            "-----------------------------\n",
            "--- Neural Network Evaluation ---\n",
            "Training time: 336.1925 seconds\n",
            "Accuracy: 0.9750\n",
            "Precision: 0.9753\n",
            "Recall: 0.9750\n",
            "F1 Score: 0.9750\n",
            "Network architecture: (80,)\n",
            "-----------------------------\n",
            "--- Neural Network Evaluation ---\n",
            "Training time: 285.4476 seconds\n",
            "Accuracy: 0.9771\n",
            "Precision: 0.9772\n",
            "Recall: 0.9771\n",
            "F1 Score: 0.9771\n",
            "Network architecture: (90,)\n",
            "-----------------------------\n",
            "--- Neural Network Evaluation ---\n",
            "Training time: 225.8880 seconds\n",
            "Accuracy: 0.9788\n",
            "Precision: 0.9788\n",
            "Recall: 0.9788\n",
            "F1 Score: 0.9788\n",
            "Network architecture: (100,)\n",
            "-----------------------------\n",
            "--- Neural Network Evaluation ---\n",
            "Training time: 489.8951 seconds\n",
            "Accuracy: 0.9828\n",
            "Precision: 0.9828\n",
            "Recall: 0.9828\n",
            "F1 Score: 0.9828\n",
            "Network architecture: (512, 512, 256, 128)\n",
            "-----------------------------\n"
          ]
        }
      ]
    }
  ]
}